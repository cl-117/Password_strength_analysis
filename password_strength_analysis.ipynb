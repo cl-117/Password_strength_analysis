{
  "cells": [
    {
      "attachments": {},
      "cell_type": "markdown",
      "metadata": {},
      "source": [
        "# Imports"
      ]
    },
    {
      "attachments": {},
      "cell_type": "markdown",
      "metadata": {},
      "source": [
        "Staples"
      ]
    },
    {
      "cell_type": "code",
      "execution_count": 87,
      "metadata": {},
      "outputs": [],
      "source": [
        "import pandas as pd\n",
        "import numpy as np"
      ]
    },
    {
      "attachments": {},
      "cell_type": "markdown",
      "metadata": {},
      "source": [
        "Visualisation"
      ]
    },
    {
      "cell_type": "code",
      "execution_count": 88,
      "metadata": {},
      "outputs": [],
      "source": [
        "import seaborn as sns\n",
        "import matplotlib.pyplot as plt"
      ]
    },
    {
      "attachments": {},
      "cell_type": "markdown",
      "metadata": {},
      "source": [
        "Preprocessing"
      ]
    },
    {
      "cell_type": "code",
      "execution_count": 89,
      "metadata": {},
      "outputs": [],
      "source": [
        "from sklearn.feature_extraction.text import TfidfVectorizer #This is to vectorise our characters and make them readable for our models\n",
        "from sklearn.model_selection import train_test_split\n",
        "from sklearn.metrics import confusion_matrix, classification_report, ConfusionMatrixDisplay"
      ]
    },
    {
      "attachments": {},
      "cell_type": "markdown",
      "metadata": {},
      "source": [
        "Models"
      ]
    },
    {
      "cell_type": "code",
      "execution_count": 90,
      "metadata": {},
      "outputs": [],
      "source": [
        "from sklearn.tree import DecisionTreeClassifier\n",
        "from sklearn.linear_model import LogisticRegression"
      ]
    },
    {
      "attachments": {},
      "cell_type": "markdown",
      "metadata": {},
      "source": [
        "# Data exploration"
      ]
    },
    {
      "cell_type": "code",
      "execution_count": 91,
      "metadata": {},
      "outputs": [
        {
          "data": {
            "text/html": [
              "<div>\n",
              "<style scoped>\n",
              "    .dataframe tbody tr th:only-of-type {\n",
              "        vertical-align: middle;\n",
              "    }\n",
              "\n",
              "    .dataframe tbody tr th {\n",
              "        vertical-align: top;\n",
              "    }\n",
              "\n",
              "    .dataframe thead th {\n",
              "        text-align: right;\n",
              "    }\n",
              "</style>\n",
              "<table border=\"1\" class=\"dataframe\">\n",
              "  <thead>\n",
              "    <tr style=\"text-align: right;\">\n",
              "      <th></th>\n",
              "      <th>password</th>\n",
              "      <th>strength</th>\n",
              "    </tr>\n",
              "  </thead>\n",
              "  <tbody>\n",
              "    <tr>\n",
              "      <th>0</th>\n",
              "      <td>kzde5577</td>\n",
              "      <td>1</td>\n",
              "    </tr>\n",
              "    <tr>\n",
              "      <th>1</th>\n",
              "      <td>kino3434</td>\n",
              "      <td>1</td>\n",
              "    </tr>\n",
              "    <tr>\n",
              "      <th>2</th>\n",
              "      <td>visi7k1yr</td>\n",
              "      <td>1</td>\n",
              "    </tr>\n",
              "    <tr>\n",
              "      <th>3</th>\n",
              "      <td>megzy123</td>\n",
              "      <td>1</td>\n",
              "    </tr>\n",
              "    <tr>\n",
              "      <th>4</th>\n",
              "      <td>lamborghin1</td>\n",
              "      <td>1</td>\n",
              "    </tr>\n",
              "    <tr>\n",
              "      <th>...</th>\n",
              "      <td>...</td>\n",
              "      <td>...</td>\n",
              "    </tr>\n",
              "    <tr>\n",
              "      <th>669635</th>\n",
              "      <td>10redtux10</td>\n",
              "      <td>1</td>\n",
              "    </tr>\n",
              "    <tr>\n",
              "      <th>669636</th>\n",
              "      <td>infrared1</td>\n",
              "      <td>1</td>\n",
              "    </tr>\n",
              "    <tr>\n",
              "      <th>669637</th>\n",
              "      <td>184520socram</td>\n",
              "      <td>1</td>\n",
              "    </tr>\n",
              "    <tr>\n",
              "      <th>669638</th>\n",
              "      <td>marken22a</td>\n",
              "      <td>1</td>\n",
              "    </tr>\n",
              "    <tr>\n",
              "      <th>669639</th>\n",
              "      <td>fxx4pw4g</td>\n",
              "      <td>1</td>\n",
              "    </tr>\n",
              "  </tbody>\n",
              "</table>\n",
              "<p>669640 rows × 2 columns</p>\n",
              "</div>"
            ],
            "text/plain": [
              "            password  strength\n",
              "0           kzde5577         1\n",
              "1           kino3434         1\n",
              "2          visi7k1yr         1\n",
              "3           megzy123         1\n",
              "4        lamborghin1         1\n",
              "...              ...       ...\n",
              "669635    10redtux10         1\n",
              "669636     infrared1         1\n",
              "669637  184520socram         1\n",
              "669638     marken22a         1\n",
              "669639      fxx4pw4g         1\n",
              "\n",
              "[669640 rows x 2 columns]"
            ]
          },
          "execution_count": 91,
          "metadata": {},
          "output_type": "execute_result"
        }
      ],
      "source": [
        "df = pd.DataFrame(\n",
        "    pd.read_csv(\n",
        "        \"passwords.csv\",\n",
        "        on_bad_lines = 'skip'\n",
        "        ))\n",
        "df"
      ]
    },
    {
      "attachments": {},
      "cell_type": "markdown",
      "metadata": {},
      "source": [
        "### Missing values"
      ]
    },
    {
      "cell_type": "code",
      "execution_count": 92,
      "metadata": {},
      "outputs": [
        {
          "name": "stdout",
          "output_type": "stream",
          "text": [
            "password    1\n",
            "strength    0\n",
            "dtype: int64\n",
            "       password  strength\n",
            "367579      NaN         0\n"
          ]
        }
      ],
      "source": [
        "print(df.isna().sum())\n",
        "print(df[df.password.isna()])\n",
        "df.dropna(inplace = True)"
      ]
    },
    {
      "attachments": {},
      "cell_type": "markdown",
      "metadata": {},
      "source": [
        "We are missing a single password. We can just drop it."
      ]
    },
    {
      "attachments": {},
      "cell_type": "markdown",
      "metadata": {},
      "source": [
        "### Duplicates"
      ]
    },
    {
      "cell_type": "code",
      "execution_count": 119,
      "metadata": {},
      "outputs": [
        {
          "data": {
            "text/plain": [
              "0"
            ]
          },
          "execution_count": 119,
          "metadata": {},
          "output_type": "execute_result"
        }
      ],
      "source": [
        "df.duplicated().sum()"
      ]
    },
    {
      "attachments": {},
      "cell_type": "markdown",
      "metadata": {},
      "source": [
        "There exist no duplicated instances. "
      ]
    },
    {
      "attachments": {},
      "cell_type": "markdown",
      "metadata": {},
      "source": [
        "### Balance"
      ]
    },
    {
      "attachments": {},
      "cell_type": "markdown",
      "metadata": {},
      "source": [
        "The below is a density histogram and a pie chart. We can see the ratio between the strength of passwords. "
      ]
    },
    {
      "cell_type": "code",
      "execution_count": 117,
      "metadata": {},
      "outputs": [
        {
          "data": {
            "text/plain": [
              "<AxesSubplot:xlabel='strength', ylabel='Density'>"
            ]
          },
          "execution_count": 117,
          "metadata": {},
          "output_type": "execute_result"
        },
        {
          "data": {
            "image/png": "[encoded data removed]",
            "text/plain": [
              "<Figure size 576x576 with 1 Axes>"
            ]
          },
          "metadata": {
            "needs_background": "light"
          },
          "output_type": "display_data"
        }
      ],
      "source": [
        "plt.figure(figsize=(8, 8))\n",
        "\n",
        "sns.histplot(\n",
        "    df,\n",
        "    x = 'strength',\n",
        "    discrete = True,\n",
        "    hue = 'strength',\n",
        "    element = 'bars',\n",
        "    stat = 'density'\n",
        ")"
      ]
    },
    {
      "cell_type": "code",
      "execution_count": 120,
      "metadata": {},
      "outputs": [
        {
          "data": {
            "image/png": "[encoded data removed]",
            "text/plain": [
              "<Figure size 576x576 with 1 Axes>"
            ]
          },
          "metadata": {},
          "output_type": "display_data"
        }
      ],
      "source": [
        "plt.figure(figsize=(8, 8))\n",
        "\n",
        "values = df['strength'].value_counts().values\n",
        "labels = df['strength'].value_counts().index\n",
        "colors = sns.color_palette('muted')[0:3]\n",
        "\n",
        "plt.pie(\n",
        "    df['strength'].value_counts().values,\n",
        "    labels = labels,\n",
        "    colors = colors,\n",
        "    explode=[0.2, 0, 0],\n",
        "    autopct='%.0f%%',\n",
        "    textprops={'fontsize': 20}\n",
        "    )\n",
        "\n",
        "plt.legend(\n",
        "    title = \"strength\"\n",
        ")\n",
        "\n",
        "plt.show()"
      ]
    },
    {
      "attachments": {},
      "cell_type": "markdown",
      "metadata": {},
      "source": [
        "We can see that the data is disproportionaly in favour of the strength 1 passwords. \n",
        "\n",
        "Although this is unavoidable if most passwords are this strength, it is worth noting, as the models may have a difficult time predicting whether a password is of strength '0' or '2'. \n",
        "\n",
        "If you suspect that the models will have an easier time predicting 1 values than the other strengths, you would be right. "
      ]
    },
    {
      "cell_type": "markdown",
      "metadata": {
        "id": "koCf-EWkvV0o"
      },
      "source": [
        "# Data prep"
      ]
    },
    {
      "attachments": {},
      "cell_type": "markdown",
      "metadata": {},
      "source": [
        "Tokenisation: Deriving a small custom function allows the program to split each\n",
        "password into individual characters. Passing the function into\n",
        "sklearn.feature_extraction.text.TfidVectorizer allows the program to ready the\n",
        "vectorizer which converts the passwords into a usable form for the machine learning\n",
        "approaches."
      ]
    },
    {
      "cell_type": "code",
      "execution_count": 96,
      "metadata": {
        "id": "hq_u_RA03RPK"
      },
      "outputs": [],
      "source": [
        "def make_chars(inputs):\n",
        "    characters=[]\n",
        "    for letter in inputs:\n",
        "        characters.append(letter)\n",
        "    return characters\n",
        "\n",
        "vectorizer=TfidfVectorizer(tokenizer=make_chars)"
      ]
    },
    {
      "cell_type": "markdown",
      "metadata": {
        "id": "TVu-3mitE-H7"
      },
      "source": [
        "Use numpy to convert the input and output values to numpy arrays. \n",
        "\n",
        "Prep the training and test sets with train_test_split and then transforming the inputs with the vectoriser and fitting them. "
      ]
    },
    {
      "cell_type": "code",
      "execution_count": 97,
      "metadata": {
        "id": "0eNhfnmR4Cw8"
      },
      "outputs": [],
      "source": [
        "X, y = np.array(df.password), np.array(df.strength)\n",
        "\n",
        "X_train, X_test, y_train, y_test = train_test_split(vectorizer.fit_transform(X),y, random_state=42)"
      ]
    },
    {
      "attachments": {},
      "cell_type": "markdown",
      "metadata": {
        "id": "y3J_KTOq_EWq"
      },
      "source": [
        "## Input"
      ]
    },
    {
      "cell_type": "markdown",
      "metadata": {
        "id": "FH_izwYX1LtS"
      },
      "source": [
        "You can uncomment out the second line if you would like to test some password. "
      ]
    },
    {
      "cell_type": "code",
      "execution_count": 98,
      "metadata": {
        "id": "XtVEfnBq_E1B"
      },
      "outputs": [],
      "source": [
        "password = \"!*(&lkjfdaiwa;L!##^$&*#^BS)!#!\"\n",
        "#password = input(\"Please input a password you would like to test :)... \")"
      ]
    },
    {
      "attachments": {},
      "cell_type": "markdown",
      "metadata": {},
      "source": [
        "# Data analysis"
      ]
    },
    {
      "attachments": {},
      "cell_type": "markdown",
      "metadata": {
        "id": "rqb-XlDU5xPL"
      },
      "source": [
        "## Decision tree"
      ]
    },
    {
      "attachments": {},
      "cell_type": "markdown",
      "metadata": {
        "id": "DgY9-Gyu83UQ"
      },
      "source": [
        "A decision tree classifier (DTC) was implemented for NLP. The decision tree derives\n",
        "the most important features of the dataset by finding which have the highest information\n",
        "gain. Information gain can be derived through entropy. Those with the higher\n",
        "information gain are prioritised and placed higher in the tree. These attributes are\n",
        "evaluated and used to find an if-else statement to begin approximating a class. The tree\n",
        "is created, containing multiple if-else statements, until it makes leaves (an\n",
        "approximation of which class the input will be). \n",
        "\n",
        "Implement the decision tree classifier. A max depth of 15 is a good middle ground."
      ]
    },
    {
      "cell_type": "code",
      "execution_count": 99,
      "metadata": {
        "colab": {
          "base_uri": "https://localhost:8080/"
        },
        "id": "dt5CSUBXdLgU",
        "outputId": "010e4b0d-27b7-4a61-f0bf-b4aafe2c7866"
      },
      "outputs": [
        {
          "data": {
            "text/plain": [
              "0.8653127053342095"
            ]
          },
          "execution_count": 99,
          "metadata": {},
          "output_type": "execute_result"
        }
      ],
      "source": [
        "DT = DecisionTreeClassifier(max_depth=10)\n",
        "\n",
        "DT.fit(X_train, y_train)\n",
        "\n",
        "DT.score(X_test, y_test)"
      ]
    },
    {
      "attachments": {},
      "cell_type": "markdown",
      "metadata": {
        "id": "Y56E0wmD5xxd"
      },
      "source": [
        "## Logsitic Regression"
      ]
    },
    {
      "attachments": {},
      "cell_type": "markdown",
      "metadata": {
        "id": "njnOnG9VDnmd"
      },
      "source": [
        "Logistic regression finds the probability of an input being a certain class. Logistic\n",
        "regression is similar to linear regression except it instead approximates an input being\n",
        "true or false. This is done by the model fitting a logistic function between 1 and 0. For this problem, one-vs-the-rest logistic regression (OLR) was required.\n",
        "OLR splits the dataset, then creates a logistic regression model for each class then picks\n",
        "the final outcome based on which outcome has the highest score for a given input. \n",
        "\n",
        "Implement sklearn.linear_model.LogisticRegression. Specifying multi_class = 'ovr' readies it for multinomianal logistic regression. The rest of the code blocks are almost identical to the decision tree implementation. Same fitting and scoring processing; same confusion matrix and classification processing and testing. "
      ]
    },
    {
      "cell_type": "code",
      "execution_count": 100,
      "metadata": {
        "colab": {
          "base_uri": "https://localhost:8080/"
        },
        "id": "BxEnxNZe5UkS",
        "outputId": "b046c76a-bcc1-417b-bc34-ca3552a740c5"
      },
      "outputs": [
        {
          "data": {
            "text/plain": [
              "0.8122274655038528"
            ]
          },
          "execution_count": 100,
          "metadata": {},
          "output_type": "execute_result"
        }
      ],
      "source": [
        "lr = LogisticRegression(multi_class='ovr',n_jobs=-1)\n",
        "\n",
        "lr.fit(X_train, y_train)\n",
        "\n",
        "lr.score(X_test, y_test)"
      ]
    },
    {
      "attachments": {},
      "cell_type": "markdown",
      "metadata": {},
      "source": [
        "## Evaluation"
      ]
    },
    {
      "attachments": {},
      "cell_type": "markdown",
      "metadata": {},
      "source": [
        "### Scoring"
      ]
    },
    {
      "cell_type": "markdown",
      "metadata": {
        "id": "AxsNyXRz8-ja"
      },
      "source": [
        "The below is a confusion matrix containing the true/false positives/negatives for the 3 classes. "
      ]
    },
    {
      "cell_type": "code",
      "execution_count": 101,
      "metadata": {
        "colab": {
          "base_uri": "https://localhost:8080/"
        },
        "id": "zdqx1G7oBtNv",
        "outputId": "3956d292-47ae-407b-9e7b-63ce2e6843e8"
      },
      "outputs": [
        {
          "data": {
            "text/plain": [
              "<sklearn.metrics._plot.confusion_matrix.ConfusionMatrixDisplay at 0x269121b59a0>"
            ]
          },
          "execution_count": 101,
          "metadata": {},
          "output_type": "execute_result"
        },
        {
          "data": {
            "image/png": "[encoded data removed]",
            "text/plain": [
              "<Figure size 432x288 with 2 Axes>"
            ]
          },
          "metadata": {
            "needs_background": "light"
          },
          "output_type": "display_data"
        }
      ],
      "source": [
        "cm = confusion_matrix(y_test,DT.predict(X_test))\n",
        "disp = ConfusionMatrixDisplay(confusion_matrix=cm, display_labels=DT.classes_)\n",
        "disp.plot()"
      ]
    },
    {
      "cell_type": "code",
      "execution_count": 102,
      "metadata": {
        "colab": {
          "base_uri": "https://localhost:8080/"
        },
        "id": "_kC4KoBiDMTL",
        "outputId": "3723e534-6308-4f14-a091-82cac9f18630"
      },
      "outputs": [
        {
          "data": {
            "text/plain": [
              "<sklearn.metrics._plot.confusion_matrix.ConfusionMatrixDisplay at 0x269115871c0>"
            ]
          },
          "execution_count": 102,
          "metadata": {},
          "output_type": "execute_result"
        },
        {
          "data": {
            "image/png": "[encoded data removed]",
            "text/plain": [
              "<Figure size 432x288 with 2 Axes>"
            ]
          },
          "metadata": {
            "needs_background": "light"
          },
          "output_type": "display_data"
        }
      ],
      "source": [
        "cm = confusion_matrix(y_test,lr.predict(X_test))\n",
        "disp = ConfusionMatrixDisplay(confusion_matrix=cm, display_labels=lr.classes_)\n",
        "disp.plot()"
      ]
    },
    {
      "attachments": {},
      "cell_type": "markdown",
      "metadata": {},
      "source": [
        "As expected, the models have a lot more support for the '1' strength passwords. \n",
        "Because of this, the models had a high level of accuracy for the 1 values because it's weight was significantly heavier than its peers. "
      ]
    },
    {
      "cell_type": "markdown",
      "metadata": {
        "id": "Fb_J9HzYRE5G"
      },
      "source": [
        "The classification report function gives an overview of the true values and the predictions. Precision, recall and f1-score give more specific accuracy measures for the test."
      ]
    },
    {
      "cell_type": "code",
      "execution_count": 103,
      "metadata": {
        "colab": {
          "base_uri": "https://localhost:8080/"
        },
        "id": "6MS1qGIjCCGA",
        "outputId": "9dfe6da2-e676-42e5-f264-651f496afc2c"
      },
      "outputs": [
        {
          "name": "stdout",
          "output_type": "stream",
          "text": [
            "              precision    recall  f1-score   support\n",
            "\n",
            "           0       0.74      0.47      0.58     22431\n",
            "           1       0.88      0.96      0.92    124201\n",
            "           2       0.86      0.73      0.79     20778\n",
            "\n",
            "    accuracy                           0.87    167410\n",
            "   macro avg       0.83      0.72      0.76    167410\n",
            "weighted avg       0.86      0.87      0.86    167410\n",
            "\n"
          ]
        }
      ],
      "source": [
        "print(classification_report(y_test,DT.predict(X_test)))"
      ]
    },
    {
      "cell_type": "code",
      "execution_count": 104,
      "metadata": {
        "colab": {
          "base_uri": "https://localhost:8080/"
        },
        "id": "8BJ_HJk4DMwl",
        "outputId": "6d1c92ba-9b94-4319-cc8d-f5191eca3001"
      },
      "outputs": [
        {
          "name": "stdout",
          "output_type": "stream",
          "text": [
            "              precision    recall  f1-score   support\n",
            "\n",
            "           0       0.59      0.18      0.28     22431\n",
            "           1       0.82      0.95      0.88    124201\n",
            "           2       0.82      0.64      0.72     20778\n",
            "\n",
            "    accuracy                           0.81    167410\n",
            "   macro avg       0.74      0.59      0.63    167410\n",
            "weighted avg       0.79      0.81      0.78    167410\n",
            "\n"
          ]
        }
      ],
      "source": [
        "print(classification_report(y_test,lr.predict(X_test)))"
      ]
    },
    {
      "attachments": {},
      "cell_type": "markdown",
      "metadata": {},
      "source": [
        "A few noteworthy things here...\n",
        "* The precision score for linear regression in terms of predicting 0 values is considerably lower than the decision tree.\n",
        "* The decision tree has better prediction in general for this dataset with an weighted average prediction score of 89% compared to linear regressions 79%.\n",
        "* We can see in the f1-score in the decision tree is significantly higher than the linear regression score 70% compared to 28%.\n",
        "\n",
        "The decision tree performed better than the linear regression model. \n",
        "\n",
        "The recall score showed a poor result for the 0 scores across the board, just flipping a coin for the decision tree and had even poorer accuracy for linear regression. \n",
        "\n",
        "Still, past the issues, the overall accuracy for both models was very good at ~80-90% so both models are appropriate for this problem."
      ]
    },
    {
      "attachments": {},
      "cell_type": "markdown",
      "metadata": {},
      "source": [
        "### Predicting"
      ]
    },
    {
      "attachments": {},
      "cell_type": "markdown",
      "metadata": {
        "id": "z8EgpTBYDkst"
      },
      "source": [
        "Testing the password. \n",
        "* Transform the password\n",
        "* Predict the password"
      ]
    },
    {
      "cell_type": "code",
      "execution_count": 105,
      "metadata": {
        "colab": {
          "base_uri": "https://localhost:8080/"
        },
        "id": "Me1iiUoxA2vy",
        "outputId": "f119afbe-c99c-4b77-cbb1-23b07c8d2b5e"
      },
      "outputs": [
        {
          "name": "stdout",
          "output_type": "stream",
          "text": [
            "The predicted class is 1 with a probability of 0.7493432968867056\n"
          ]
        }
      ],
      "source": [
        "DT_prob_index = DT.predict(vectorizer.transform([password]))[0]\n",
        "DT_prob = np.max(DT.predict_proba(vectorizer.transform([password])))\n",
        "\n",
        "print(\"The predicted class is {c} with a probability of {p}\".format(c=DT_prob_index, p=DT_prob))"
      ]
    },
    {
      "cell_type": "code",
      "execution_count": 106,
      "metadata": {
        "colab": {
          "base_uri": "https://localhost:8080/"
        },
        "id": "GsuiLhpO-8DM",
        "outputId": "061f4568-127a-4e22-e229-be6a775cf31b"
      },
      "outputs": [
        {
          "name": "stdout",
          "output_type": "stream",
          "text": [
            "The predicted class is 2 with a probability of 0.9623919896454548\n"
          ]
        }
      ],
      "source": [
        "lr_prob_index = lr.predict(vectorizer.transform([password]))[0]\n",
        "lr_prob = np.max(lr.predict_proba(vectorizer.transform([password])))\n",
        "\n",
        "print(\"The predicted class is {c} with a probability of {p}\".format(c=lr_prob_index, p=lr_prob))"
      ]
    },
    {
      "attachments": {},
      "cell_type": "markdown",
      "metadata": {},
      "source": [
        "We can see that logistic regression is more confident so this is what I would pick to analyse passwords in the future."
      ]
    }
  ],
  "metadata": {
    "colab": {
      "collapsed_sections": [
        "IFz8dTTfvSIa"
      ],
      "provenance": []
    },
    "kernelspec": {
      "display_name": "Python 3",
      "language": "python",
      "name": "python3"
    },
    "language_info": {
      "codemirror_mode": {
        "name": "ipython",
        "version": 3
      },
      "file_extension": ".py",
      "mimetype": "text/x-python",
      "name": "python",
      "nbconvert_exporter": "python",
      "pygments_lexer": "ipython3",
      "version": "3.9.6"
    },
    "vscode": {
      "interpreter": {
        "hash": "81794d4967e6c3204c66dcd87b604927b115b27c00565d3d43f05ba2f3a2cb0d"
      }
    }
  },
  "nbformat": 4,
  "nbformat_minor": 0
}
